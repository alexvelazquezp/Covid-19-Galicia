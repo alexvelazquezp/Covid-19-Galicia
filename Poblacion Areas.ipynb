{
 "cells": [
  {
   "cell_type": "markdown",
   "metadata": {},
   "source": [
    "<h1 align=center><font size = 6>Población de las áreas sanitarias de Galicia</font></h1>"
   ]
  },
  {
   "cell_type": "markdown",
   "metadata": {},
   "source": [
    "Este cuaderno calcula el número de habitantes de cada área sanitaria de Galicia.\n",
    "\n",
    "Parte de un fichero del <a href=\"https://github.com/lipido/galicia-covid19\">usuario lipido</a> con la correspondencia entre los ayuntamientos y las áreas sanitarias, y tras obtener directamente de la Wikipedia el número de habitantes de cada ayuntamiento, fusiona ambos datasets consiguiendo así la población por área. "
   ]
  },
  {
   "cell_type": "code",
   "execution_count": 1,
   "metadata": {},
   "outputs": [],
   "source": [
    "import pandas as pd\n",
    "import numpy as np\n",
    "from bs4 import BeautifulSoup\n",
    "import json\n",
    "import requests\n",
    "import lxml\n",
    "import sys"
   ]
  },
  {
   "cell_type": "markdown",
   "metadata": {},
   "source": [
    "Para tener los datos de población de cada ayuntamiento, toma los datos directamente de la Wikipedia"
   ]
  },
  {
   "cell_type": "code",
   "execution_count": 2,
   "metadata": {},
   "outputs": [
    {
     "data": {
      "text/html": [
       "<div>\n",
       "<style scoped>\n",
       "    .dataframe tbody tr th:only-of-type {\n",
       "        vertical-align: middle;\n",
       "    }\n",
       "\n",
       "    .dataframe tbody tr th {\n",
       "        vertical-align: top;\n",
       "    }\n",
       "\n",
       "    .dataframe thead th {\n",
       "        text-align: right;\n",
       "    }\n",
       "</style>\n",
       "<table border=\"1\" class=\"dataframe\">\n",
       "  <thead>\n",
       "    <tr style=\"text-align: right;\">\n",
       "      <th></th>\n",
       "      <th>Concello</th>\n",
       "      <th>Habitantes</th>\n",
       "    </tr>\n",
       "  </thead>\n",
       "  <tbody>\n",
       "    <tr>\n",
       "      <th>0</th>\n",
       "      <td>Abadín</td>\n",
       "      <td>2490</td>\n",
       "    </tr>\n",
       "    <tr>\n",
       "      <th>1</th>\n",
       "      <td>Abegondo</td>\n",
       "      <td>5467</td>\n",
       "    </tr>\n",
       "    <tr>\n",
       "      <th>2</th>\n",
       "      <td>Agolada</td>\n",
       "      <td>2431</td>\n",
       "    </tr>\n",
       "    <tr>\n",
       "      <th>3</th>\n",
       "      <td>Alfoz</td>\n",
       "      <td>1781</td>\n",
       "    </tr>\n",
       "    <tr>\n",
       "      <th>4</th>\n",
       "      <td>Allariz</td>\n",
       "      <td>6026</td>\n",
       "    </tr>\n",
       "  </tbody>\n",
       "</table>\n",
       "</div>"
      ],
      "text/plain": [
       "   Concello  Habitantes\n",
       "0    Abadín        2490\n",
       "1  Abegondo        5467\n",
       "2   Agolada        2431\n",
       "3     Alfoz        1781\n",
       "4   Allariz        6026"
      ]
     },
     "execution_count": 2,
     "metadata": {},
     "output_type": "execute_result"
    }
   ],
   "source": [
    "#Lee los datos de la wikipedia\n",
    "url = 'https://gl.wikipedia.org/wiki/Concellos_de_Galicia'\n",
    "headers = {'User-Agent': \n",
    "           'Mozilla/5.0 (X11; Linux x86_64) AppleWebKit/537.36 (KHTML, like Gecko) Chrome/47.0.2526.106 Safari/537.36'}\n",
    "\n",
    "readWiki = requests.get(url, headers=headers).text\n",
    "soup = BeautifulSoup(readWiki,'lxml')\n",
    "table = soup.find_all('table')\n",
    "tab = str(table[1]) #Se ha comprobado que la tabla que nos interesa es la index=1\n",
    "list_data = pd.read_html(tab)\n",
    "df_wiki = list_data[0]\n",
    "\n",
    "#Hacemos algunos ajustes de formato en el dataframe, teniendo en cuenta que la población figura con decimales\n",
    "df_wiki.drop(['Superficie(km²)', 'Capital', 'Comarca', 'Provincia', 'Alcaldía(agosto de 2017)'], axis=1, inplace=True)\n",
    "habitantes = df_wiki['Habitantes(2017)']\n",
    "df_wiki.drop(['Habitantes(2017)'], axis=1, inplace=True)\n",
    "hab_corregido = []\n",
    "for h in habitantes:\n",
    "    if h.is_integer():\n",
    "        hab_corregido.append(h)\n",
    "    else:\n",
    "        hab_corregido.append(h*1000)\n",
    "df_wiki['Habitantes'] = hab_corregido\n",
    "df_wiki = df_wiki.astype({'Habitantes':int})\n",
    "\n",
    "df_wiki.head()"
   ]
  },
  {
   "cell_type": "markdown",
   "metadata": {},
   "source": [
    "Dado que hasta la fecha los datos proporcionados están organizados en áreas sanitarias, leeremos el fichero que incluye la correspondencia entre ayuntamientos y áreas. Posteriormente fusionaremos este dataset con el de la población, obteniendo así la población de cada área."
   ]
  },
  {
   "cell_type": "code",
   "execution_count": 5,
   "metadata": {},
   "outputs": [
    {
     "data": {
      "text/html": [
       "<div>\n",
       "<style scoped>\n",
       "    .dataframe tbody tr th:only-of-type {\n",
       "        vertical-align: middle;\n",
       "    }\n",
       "\n",
       "    .dataframe tbody tr th {\n",
       "        vertical-align: top;\n",
       "    }\n",
       "\n",
       "    .dataframe thead th {\n",
       "        text-align: right;\n",
       "    }\n",
       "</style>\n",
       "<table border=\"1\" class=\"dataframe\">\n",
       "  <thead>\n",
       "    <tr style=\"text-align: right;\">\n",
       "      <th></th>\n",
       "      <th>Area sanitaria</th>\n",
       "      <th>Habitantes</th>\n",
       "    </tr>\n",
       "  </thead>\n",
       "  <tbody>\n",
       "    <tr>\n",
       "      <th>0</th>\n",
       "      <td>A Coruña</td>\n",
       "      <td>550024</td>\n",
       "    </tr>\n",
       "    <tr>\n",
       "      <th>1</th>\n",
       "      <td>Ferrol</td>\n",
       "      <td>192136</td>\n",
       "    </tr>\n",
       "    <tr>\n",
       "      <th>2</th>\n",
       "      <td>Lugo</td>\n",
       "      <td>333631</td>\n",
       "    </tr>\n",
       "    <tr>\n",
       "      <th>3</th>\n",
       "      <td>Ourense</td>\n",
       "      <td>311674</td>\n",
       "    </tr>\n",
       "    <tr>\n",
       "      <th>4</th>\n",
       "      <td>Pontevedra</td>\n",
       "      <td>307877</td>\n",
       "    </tr>\n",
       "    <tr>\n",
       "      <th>5</th>\n",
       "      <td>Santiago</td>\n",
       "      <td>448118</td>\n",
       "    </tr>\n",
       "    <tr>\n",
       "      <th>6</th>\n",
       "      <td>Vigo</td>\n",
       "      <td>564814</td>\n",
       "    </tr>\n",
       "  </tbody>\n",
       "</table>\n",
       "</div>"
      ],
      "text/plain": [
       "  Area sanitaria  Habitantes\n",
       "0       A Coruña      550024\n",
       "1         Ferrol      192136\n",
       "2           Lugo      333631\n",
       "3        Ourense      311674\n",
       "4     Pontevedra      307877\n",
       "5       Santiago      448118\n",
       "6           Vigo      564814"
      ]
     },
     "execution_count": 5,
     "metadata": {},
     "output_type": "execute_result"
    }
   ],
   "source": [
    "#Lee el fichero de las áreas sanitarias y ayuntamientos de Galicia\n",
    "df_ayun = pd.read_csv('areas.csv')\n",
    "df_ayun.rename(columns={'municipio':'Concello','provincia':'Provincia','area_sanitaria':'Area sanitaria'}, inplace=True)\n",
    "\n",
    "#Fusiona el dataframe de las áreas sanitarias y población\n",
    "df_pop = pd.merge(how='inner', \n",
    "                  left=df_wiki[['Concello','Habitantes']], \n",
    "                  right=df_ayun, \n",
    "                  left_on='Concello', \n",
    "                  right_on='Concello')\n",
    "\n",
    "#Agrupa los valores para tener los datos de población de las áreas sanitarias\n",
    "df_areas = df_pop.groupby(['Area sanitaria']).sum()\n",
    "df_areas.reset_index(inplace=True)\n",
    "\n",
    "#Guarda como csv\n",
    "df_areas.to_csv('poblacion.csv', index=False)\n",
    "\n",
    "df_areas"
   ]
  },
  {
   "cell_type": "code",
   "execution_count": null,
   "metadata": {},
   "outputs": [],
   "source": []
  }
 ],
 "metadata": {
  "kernelspec": {
   "display_name": "Python 3",
   "language": "python",
   "name": "python3"
  },
  "language_info": {
   "codemirror_mode": {
    "name": "ipython",
    "version": 3
   },
   "file_extension": ".py",
   "mimetype": "text/x-python",
   "name": "python",
   "nbconvert_exporter": "python",
   "pygments_lexer": "ipython3",
   "version": "3.7.6"
  }
 },
 "nbformat": 4,
 "nbformat_minor": 4
}
